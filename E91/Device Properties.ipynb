{
 "cells": [
  {
   "cell_type": "code",
   "execution_count": 2,
   "id": "81736bd2",
   "metadata": {},
   "outputs": [],
   "source": [
    "import numpy as np\n",
    "# Importing standard Qiskit libraries\n",
    "from qiskit import QuantumCircuit, transpile, Aer, IBMQ\n",
    "from qiskit.tools.jupyter import *\n",
    "from qiskit.visualization import *\n",
    "from ibm_quantum_widgets import *\n",
    "\n",
    "# Loading your IBM Quantum account(s)\n",
    "provider = IBMQ.load_account()"
   ]
  },
  {
   "cell_type": "code",
   "execution_count": 13,
   "id": "4b419982",
   "metadata": {
    "tags": []
   },
   "outputs": [
    {
     "name": "stderr",
     "output_type": "stream",
     "text": [
      "ibmqfactory.load_account:WARNING:2022-04-12 05:45:27,715: Credentials are already in use. The existing account in the session will be replaced.\n",
      "/tmp/ipykernel_110/3547486740.py:5: DeprecationWarning: The `backends` provider attribute is deprecated. Please use `provider.backend` (singular) instead. You can continue to use `provider.backends()` to retrieve all backends.\n",
      "  backend_monitor(provider.backends.ibmq_lima)\n"
     ]
    },
    {
     "name": "stdout",
     "output_type": "stream",
     "text": [
      "ibmq_lima\n",
      "=========\n",
      "Configuration\n",
      "-------------\n",
      "    n_qubits: 5\n",
      "    operational: True\n",
      "    status_msg: active\n",
      "    pending_jobs: 13\n",
      "    backend_version: 1.0.35\n",
      "    basis_gates: ['id', 'rz', 'sx', 'x', 'cx', 'reset']\n",
      "    local: False\n",
      "    simulator: False\n",
      "    discriminators: ['hw_centroid', 'quadratic_discriminator', 'linear_discriminator']\n",
      "    timing_constraints: {'acquire_alignment': 16, 'granularity': 16, 'min_length': 64, 'pulse_alignment': 1}\n",
      "    qubit_channel_mapping: [['u1', 'm0', 'd0', 'u0'], ['u1', 'u4', 'u5', 'u0', 'm1', 'd1', 'u2', 'u3'], ['u2', 'm2', 'u4', 'd2'], ['u5', 'm3', 'd3', 'u7', 'u6', 'u3'], ['m4', 'u7', 'u6', 'd4']]\n",
      "    meas_map: [[0, 1, 2, 3, 4]]\n",
      "    input_allowed: ['job', 'runtime']\n",
      "    allow_q_object: True\n",
      "    conditional: False\n",
      "    quantum_volume: 8\n",
      "    pulse_num_channels: 9\n",
      "    pulse_num_qubits: 3\n",
      "    live_data: False\n",
      "    dynamic_reprate_enabled: True\n",
      "    n_uchannels: 8\n",
      "    max_experiments: 100\n",
      "    description: 5 qubit device Lima\n",
      "    clops: 2673\n",
      "    rep_times: [1000.0]\n",
      "    n_registers: 1\n",
      "    coupling_map: [[0, 1], [1, 0], [1, 2], [1, 3], [2, 1], [3, 1], [3, 4], [4, 3]]\n",
      "    dtm: 0.2222222222222222\n",
      "    multi_meas_enabled: True\n",
      "    rep_delay_range: [0.0, 500.0]\n",
      "    backend_name: ibmq_lima\n",
      "    acquisition_latency: []\n",
      "    dt: 0.2222222222222222\n",
      "    meas_kernels: ['hw_boxcar']\n",
      "    conditional_latency: []\n",
      "    max_shots: 20000\n",
      "    hamiltonian: {'description': 'Qubits are modeled as Duffing oscillators. In this case, the system includes higher energy states, i.e. not just |0> and |1>. The Pauli operators are generalized via the following set of transformations:\\n\\n$(\\\\mathbb{I}-\\\\sigma_{i}^z)/2 \\\\rightarrow O_i \\\\equiv b^\\\\dagger_{i} b_{i}$,\\n\\n$\\\\sigma_{+} \\\\rightarrow b^\\\\dagger$,\\n\\n$\\\\sigma_{-} \\\\rightarrow b$,\\n\\n$\\\\sigma_{i}^X \\\\rightarrow b^\\\\dagger_{i} + b_{i}$.\\n\\nQubits are coupled through resonator buses. The provided Hamiltonian has been projected into the zero excitation subspace of the resonator buses leading to an effective qubit-qubit flip-flop interaction. The qubit resonance frequencies in the Hamiltonian are the cavity dressed frequencies and not exactly what is returned by the backend defaults, which also includes the dressing due to the qubit-qubit interactions.\\n\\nQuantities are returned in angular frequencies, with units 2*pi*GHz.\\n\\nWARNING: Currently not all system Hamiltonian information is available to the public, missing values have been replaced with 0.\\n', 'h_latex': '\\\\begin{align} \\\\mathcal{H}/\\\\hbar = & \\\\sum_{i=0}^{4}\\\\left(\\\\frac{\\\\omega_{q,i}}{2}(\\\\mathbb{I}-\\\\sigma_i^{z})+\\\\frac{\\\\Delta_{i}}{2}(O_i^2-O_i)+\\\\Omega_{d,i}D_i(t)\\\\sigma_i^{X}\\\\right) \\\\\\\\ & + J_{0,1}(\\\\sigma_{0}^{+}\\\\sigma_{1}^{-}+\\\\sigma_{0}^{-}\\\\sigma_{1}^{+}) + J_{1,2}(\\\\sigma_{1}^{+}\\\\sigma_{2}^{-}+\\\\sigma_{1}^{-}\\\\sigma_{2}^{+}) + J_{1,3}(\\\\sigma_{1}^{+}\\\\sigma_{3}^{-}+\\\\sigma_{1}^{-}\\\\sigma_{3}^{+}) + J_{3,4}(\\\\sigma_{3}^{+}\\\\sigma_{4}^{-}+\\\\sigma_{3}^{-}\\\\sigma_{4}^{+}) \\\\\\\\ & + \\\\Omega_{d,0}(U_{0}^{(0,1)}(t))\\\\sigma_{0}^{X} + \\\\Omega_{d,1}(U_{1}^{(1,0)}(t)+U_{3}^{(1,3)}(t)+U_{2}^{(1,2)}(t))\\\\sigma_{1}^{X} \\\\\\\\ & + \\\\Omega_{d,2}(U_{4}^{(2,1)}(t))\\\\sigma_{2}^{X} + \\\\Omega_{d,3}(U_{6}^{(3,4)}(t)+U_{5}^{(3,1)}(t))\\\\sigma_{3}^{X} \\\\\\\\ & + \\\\Omega_{d,4}(U_{7}^{(4,3)}(t))\\\\sigma_{4}^{X} \\\\\\\\ \\\\end{align}', 'h_str': ['_SUM[i,0,4,wq{i}/2*(I{i}-Z{i})]', '_SUM[i,0,4,delta{i}/2*O{i}*O{i}]', '_SUM[i,0,4,-delta{i}/2*O{i}]', '_SUM[i,0,4,omegad{i}*X{i}||D{i}]', 'jq0q1*Sp0*Sm1', 'jq0q1*Sm0*Sp1', 'jq1q2*Sp1*Sm2', 'jq1q2*Sm1*Sp2', 'jq1q3*Sp1*Sm3', 'jq1q3*Sm1*Sp3', 'jq3q4*Sp3*Sm4', 'jq3q4*Sm3*Sp4', 'omegad1*X0||U0', 'omegad0*X1||U1', 'omegad3*X1||U3', 'omegad2*X1||U2', 'omegad1*X2||U4', 'omegad4*X3||U6', 'omegad1*X3||U5', 'omegad3*X4||U7'], 'osc': {}, 'qub': {'0': 3, '1': 3, '2': 3, '3': 3, '4': 3}, 'vars': {'delta0': -2.109526390232452, 'delta1': -2.0002465324219205, 'delta2': -2.0960936199138844, 'delta3': -2.0812544393432897, 'delta4': -2.1015348325639516, 'jq0q1': 0.011088625669671271, 'jq1q2': 0.011792549393436342, 'jq1q3': 0.011913891984976947, 'jq3q4': 0.011656329753118028, 'omegad0': 1.6217997929945025, 'omegad1': 1.3334975895390189, 'omegad2': 1.4293758472022131, 'omegad3': 1.5982593643410057, 'omegad4': 1.5905062878759262, 'wq0': 31.602841582983483, 'wq1': 32.21854573426879, 'wq2': 32.97001510899902, 'wq3': 33.31757208524707, 'wq4': 31.994917645596225}}\n",
      "    allow_object_storage: True\n",
      "    channels: {'acquire0': {'operates': {'qubits': [0]}, 'purpose': 'acquire', 'type': 'acquire'}, 'acquire1': {'operates': {'qubits': [1]}, 'purpose': 'acquire', 'type': 'acquire'}, 'acquire2': {'operates': {'qubits': [2]}, 'purpose': 'acquire', 'type': 'acquire'}, 'acquire3': {'operates': {'qubits': [3]}, 'purpose': 'acquire', 'type': 'acquire'}, 'acquire4': {'operates': {'qubits': [4]}, 'purpose': 'acquire', 'type': 'acquire'}, 'd0': {'operates': {'qubits': [0]}, 'purpose': 'drive', 'type': 'drive'}, 'd1': {'operates': {'qubits': [1]}, 'purpose': 'drive', 'type': 'drive'}, 'd2': {'operates': {'qubits': [2]}, 'purpose': 'drive', 'type': 'drive'}, 'd3': {'operates': {'qubits': [3]}, 'purpose': 'drive', 'type': 'drive'}, 'd4': {'operates': {'qubits': [4]}, 'purpose': 'drive', 'type': 'drive'}, 'm0': {'operates': {'qubits': [0]}, 'purpose': 'measure', 'type': 'measure'}, 'm1': {'operates': {'qubits': [1]}, 'purpose': 'measure', 'type': 'measure'}, 'm2': {'operates': {'qubits': [2]}, 'purpose': 'measure', 'type': 'measure'}, 'm3': {'operates': {'qubits': [3]}, 'purpose': 'measure', 'type': 'measure'}, 'm4': {'operates': {'qubits': [4]}, 'purpose': 'measure', 'type': 'measure'}, 'u0': {'operates': {'qubits': [0, 1]}, 'purpose': 'cross-resonance', 'type': 'control'}, 'u1': {'operates': {'qubits': [1, 0]}, 'purpose': 'cross-resonance', 'type': 'control'}, 'u2': {'operates': {'qubits': [1, 2]}, 'purpose': 'cross-resonance', 'type': 'control'}, 'u3': {'operates': {'qubits': [1, 3]}, 'purpose': 'cross-resonance', 'type': 'control'}, 'u4': {'operates': {'qubits': [2, 1]}, 'purpose': 'cross-resonance', 'type': 'control'}, 'u5': {'operates': {'qubits': [3, 1]}, 'purpose': 'cross-resonance', 'type': 'control'}, 'u6': {'operates': {'qubits': [3, 4]}, 'purpose': 'cross-resonance', 'type': 'control'}, 'u7': {'operates': {'qubits': [4, 3]}, 'purpose': 'cross-resonance', 'type': 'control'}}\n",
      "    url: None\n",
      "    meas_levels: [1, 2]\n",
      "    u_channel_lo: [[{'q': 1, 'scale': (1+0j)}], [{'q': 0, 'scale': (1+0j)}], [{'q': 2, 'scale': (1+0j)}], [{'q': 3, 'scale': (1+0j)}], [{'q': 1, 'scale': (1+0j)}], [{'q': 1, 'scale': (1+0j)}], [{'q': 4, 'scale': (1+0j)}], [{'q': 3, 'scale': (1+0j)}]]\n",
      "    open_pulse: False\n",
      "    parametric_pulses: ['gaussian', 'gaussian_square', 'drag', 'constant']\n",
      "    sample_name: family: Falcon, revision: 4, segment: T\n",
      "    default_rep_delay: 250.0\n",
      "    processor_type: {'family': 'Falcon', 'revision': 4, 'segment': 'T'}\n",
      "    online_date: 2021-01-08 05:00:00+00:00\n",
      "    uchannels_enabled: True\n",
      "    memory: True\n",
      "    supported_instructions: ['x', 'u1', 'play', 'id', 'shiftf', 'measure', 'sx', 'rz', 'setf', 'reset', 'cx', 'acquire', 'u3', 'u2', 'delay']\n",
      "    measure_esp_enabled: False\n",
      "    qubit_lo_range: [[4.52974845368192, 5.52974845368192], [4.627740812841176, 5.627740812841177], [4.747340878411669, 5.747340878411669], [4.8026562891876186, 5.8026562891876186], [4.592149297114744, 5.592149297114744]]\n",
      "    meas_lo_range: [[6.925143125000001, 7.925143125000001], [6.721646720000001, 7.721646720000001], [6.971842939, 7.971842939], [6.865317232000001, 7.865317232000001], [6.919067567000001, 7.919067567000001]]\n",
      "    supported_features: ['qobj']\n",
      "    credits_required: True\n",
      "\n",
      "Qubits [Name / Freq / T1 / T2 / RZ err / SX err / X err / Readout err]\n",
      "----------------------------------------------------------------------\n",
      "    Q0 / 5.02975 GHz / 79.77334 us / 122.30085 us / 0.00000 / 0.00020 / 0.00020 / 0.01790 \n",
      "    Q1 / 5.12774 GHz / 62.51993 us / 117.95043 us / 0.00000 / 0.00019 / 0.00019 / 0.01820 \n",
      "    Q2 / 5.24734 GHz / 111.89482 us / 155.20786 us / 0.00000 / 0.00034 / 0.00034 / 0.02340 \n",
      "    Q3 / 5.30266 GHz / 92.86966 us / 94.23551 us / 0.00000 / 0.00048 / 0.00048 / 0.03290 \n",
      "    Q4 / 5.09215 GHz / 16.78650 us / 21.72723 us / 0.00000 / 0.00069 / 0.00069 / 0.04720 \n",
      "\n",
      "Multi-Qubit Gates [Name / Type / Gate Error]\n",
      "--------------------------------------------\n",
      "    cx4_3 / cx / 0.01935\n",
      "    cx3_4 / cx / 0.01935\n",
      "    cx0_1 / cx / 0.00498\n",
      "    cx1_0 / cx / 0.00498\n",
      "    cx3_1 / cx / 0.01331\n",
      "    cx1_3 / cx / 0.01331\n",
      "    cx2_1 / cx / 0.02399\n",
      "    cx1_2 / cx / 0.02399\n"
     ]
    }
   ],
   "source": [
    "from qiskit.tools.monitor import backend_monitor\n",
    "IBMQ.load_account()\n",
    "provider = IBMQ.get_provider(hub='ibm-q')\n",
    "device = provider.get_backend('ibmq_lima')\n",
    "backend_monitor(provider.backends.ibmq_lima)\n"
   ]
  },
  {
   "cell_type": "code",
   "execution_count": 12,
   "id": "a148488e-c6c9-41c3-99e2-7b977a736891",
   "metadata": {},
   "outputs": [
    {
     "name": "stderr",
     "output_type": "stream",
     "text": [
      "ibmqfactory.load_account:WARNING:2022-04-12 05:44:08,251: Credentials are already in use. The existing account in the session will be replaced.\n",
      "/tmp/ipykernel_110/1799033648.py:5: DeprecationWarning: The `backends` provider attribute is deprecated. Please use `provider.backend` (singular) instead. You can continue to use `provider.backends()` to retrieve all backends.\n",
      "  backend_monitor(provider.backends.ibmq_armonk)\n"
     ]
    },
    {
     "name": "stdout",
     "output_type": "stream",
     "text": [
      "ibmq_armonk\n",
      "===========\n",
      "Configuration\n",
      "-------------\n",
      "    n_qubits: 1\n",
      "    operational: True\n",
      "    status_msg: active\n",
      "    pending_jobs: 1\n",
      "    backend_version: 2.4.34\n",
      "    basis_gates: ['id', 'rz', 'sx', 'x']\n",
      "    local: False\n",
      "    simulator: False\n",
      "    discriminators: ['quadratic_discriminator', 'linear_discriminator']\n",
      "    timing_constraints: {'acquire_alignment': 16, 'granularity': 16, 'min_length': 64, 'pulse_alignment': 1}\n",
      "    qubit_channel_mapping: [['d0', 'm0']]\n",
      "    meas_map: [[0]]\n",
      "    input_allowed: ['job', 'runtime']\n",
      "    allow_q_object: True\n",
      "    conditional: False\n",
      "    quantum_volume: 1\n",
      "    pulse_num_channels: 9\n",
      "    pulse_num_qubits: 3\n",
      "    live_data: False\n",
      "    dynamic_reprate_enabled: False\n",
      "    n_uchannels: 0\n",
      "    max_experiments: 100\n",
      "    description: 1 qubit device\n",
      "    clops: None\n",
      "    rep_times: [1000.0]\n",
      "    n_registers: 1\n",
      "    coupling_map: None\n",
      "    dtm: 0.2222222222222222\n",
      "    multi_meas_enabled: True\n",
      "    backend_name: ibmq_armonk\n",
      "    acquisition_latency: []\n",
      "    dt: 0.2222222222222222\n",
      "    meas_kernels: ['hw_boxcar']\n",
      "    conditional_latency: []\n",
      "    max_shots: 20000\n",
      "    hamiltonian: {'description': 'Qubits are modeled as Duffing oscillators. In this case, the system includes higher energy states, i.e. not just |0> and |1>. The Pauli operators are generalized via the following set of transformations:\\n\\n$(\\\\mathbb{I}-\\\\sigma_{i}^z)/2 \\\\rightarrow O_i \\\\equiv b^\\\\dagger_{i} b_{i}$,\\n\\n$\\\\sigma_{+} \\\\rightarrow b^\\\\dagger$,\\n\\n$\\\\sigma_{-} \\\\rightarrow b$,\\n\\n$\\\\sigma_{i}^X \\\\rightarrow b^\\\\dagger_{i} + b_{i}$.\\n\\nQubits are coupled through resonator buses. The provided Hamiltonian has been projected into the zero excitation subspace of the resonator buses leading to an effective qubit-qubit flip-flop interaction. The qubit resonance frequencies in the Hamiltonian are the cavity dressed frequencies and not exactly what is returned by the backend defaults, which also includes the dressing due to the qubit-qubit interactions.\\n\\nQuantities are returned in angular frequencies, with units 2*pi*GHz.\\n\\nWARNING: Currently not all system Hamiltonian information is available to the public, missing values have been replaced with 0.\\n', 'h_latex': '\\\\begin{align} \\\\mathcal{H}/\\\\hbar = & \\\\sum_{i=0}^{0}\\\\left(\\\\frac{\\\\omega_{q,i}}{2}(\\\\mathbb{I}-\\\\sigma_i^{z})+\\\\frac{\\\\Delta_{i}}{2}(O_i^2-O_i)+\\\\Omega_{d,i}D_i(t)\\\\sigma_i^{X}\\\\right) \\\\\\\\ \\\\end{align}', 'h_str': ['_SUM[i,0,0,wq{i}/2*(I{i}-Z{i})]', '_SUM[i,0,0,delta{i}/2*O{i}*O{i}]', '_SUM[i,0,0,-delta{i}/2*O{i}]', '_SUM[i,0,0,omegad{i}*X{i}||D{i}]'], 'osc': {}, 'qub': {'0': 3}, 'vars': {'delta0': -2.1814775258495027, 'omegad0': 0.10576482012665536, 'wq0': 31.23796396092759}}\n",
      "    allow_object_storage: True\n",
      "    channels: {'acquire0': {'operates': {'qubits': [0]}, 'purpose': 'acquire', 'type': 'acquire'}, 'd0': {'operates': {'qubits': [0]}, 'purpose': 'drive', 'type': 'drive'}, 'm0': {'operates': {'qubits': [0]}, 'purpose': 'measure', 'type': 'measure'}}\n",
      "    url: None\n",
      "    meas_levels: [1, 2]\n",
      "    u_channel_lo: []\n",
      "    open_pulse: True\n",
      "    parametric_pulses: ['gaussian', 'gaussian_square', 'drag', 'constant']\n",
      "    sample_name: family: Canary, revision: 1.2\n",
      "    processor_type: {'family': 'Canary', 'revision': 1.2}\n",
      "    online_date: 2019-10-16 04:00:00+00:00\n",
      "    uchannels_enabled: True\n",
      "    memory: True\n",
      "    supported_instructions: ['delay', 'measure', 'x', 'u3', 'shiftf', 'setf', 'play', 'acquire', 'u2', 'id', 'sx', 'rz', 'u1']\n",
      "    measure_esp_enabled: False\n",
      "    qubit_lo_range: [[4.471676376508109, 5.471676376508109]]\n",
      "    meas_lo_range: [[6.493370669000001, 7.493370669000001]]\n",
      "    supported_features: ['qobj']\n",
      "    credits_required: True\n",
      "\n",
      "Qubits [Name / Freq / T1 / T2 / RZ err / SX err / X err / Readout err]\n",
      "----------------------------------------------------------------------\n",
      "    Q0 / 4.97168 GHz / 165.15950 us / 237.47867 us / 0.00000 / 0.00022 / 0.00022 / 0.03040 \n",
      "\n",
      "Multi-Qubit Gates [Name / Type / Gate Error]\n",
      "--------------------------------------------\n"
     ]
    }
   ],
   "source": [
    "from qiskit.tools.monitor import backend_monitor\n",
    "IBMQ.load_account()\n",
    "provider = IBMQ.get_provider(hub='ibm-q')\n",
    "device = provider.get_backend('ibmq_armonk')\n",
    "backend_monitor(provider.backends.ibmq_armonk)"
   ]
  },
  {
   "cell_type": "code",
   "execution_count": null,
   "id": "9827fe76-f388-419e-8217-94fcdee2bcd2",
   "metadata": {},
   "outputs": [],
   "source": []
  }
 ],
 "metadata": {
  "kernelspec": {
   "display_name": "Qiskit v0.35.0 (ipykernel)",
   "language": "python",
   "name": "python3"
  },
  "language_info": {
   "codemirror_mode": {
    "name": "ipython",
    "version": 3
   },
   "file_extension": ".py",
   "mimetype": "text/x-python",
   "name": "python",
   "nbconvert_exporter": "python",
   "pygments_lexer": "ipython3",
   "version": "3.8.13"
  },
  "widgets": {
   "application/vnd.jupyter.widget-state+json": {
    "state": {
     "04627500e0f142f8adfcc98aa8d19e3b": {
      "model_module": "@jupyter-widgets/controls",
      "model_module_version": "1.5.0",
      "model_name": "ButtonModel",
      "state": {
       "button_style": "primary",
       "description": "Clear",
       "layout": "IPY_MODEL_561f29325af240368977ac344f874656",
       "style": "IPY_MODEL_fe4d25f895ae438bb991c699ca3cea77"
      }
     },
     "0ec496c904e242df9acbf09d9c3db08c": {
      "model_module": "@jupyter-widgets/controls",
      "model_module_version": "1.5.0",
      "model_name": "DescriptionStyleModel",
      "state": {
       "description_width": ""
      }
     },
     "1860e354105843e78c01c902bf8999e2": {
      "model_module": "@jupyter-widgets/controls",
      "model_module_version": "1.5.0",
      "model_name": "DescriptionStyleModel",
      "state": {
       "description_width": ""
      }
     },
     "1c461c30613043478c69290d67ef32a3": {
      "model_module": "@jupyter-widgets/base",
      "model_module_version": "1.2.0",
      "model_name": "LayoutModel",
      "state": {
       "width": "145px"
      }
     },
     "24608d5131c04d2095d20dca2da326d8": {
      "model_module": "@jupyter-widgets/base",
      "model_module_version": "1.2.0",
      "model_name": "LayoutModel",
      "state": {
       "width": "190px"
      }
     },
     "382a50ab505945a593bfcc76bd29b969": {
      "model_module": "@jupyter-widgets/base",
      "model_module_version": "1.2.0",
      "model_name": "LayoutModel",
      "state": {
       "margin": "0px 0px 0px 37px",
       "width": "600px"
      }
     },
     "38f4e70f6a3c4dc6807f5a0840234048": {
      "model_module": "@jupyter-widgets/controls",
      "model_module_version": "1.5.0",
      "model_name": "HTMLModel",
      "state": {
       "layout": "IPY_MODEL_814fc992991546f09885f2b76f5a4a5f",
       "style": "IPY_MODEL_a66b6554612146e59eddf621c5bb2522",
       "value": "<p style='font-family: IBM Plex Sans, Arial, Helvetica, sans-serif; font-size: 20px; font-weight: medium;'>Circuit Properties</p>"
      }
     },
     "3963efd1dfa847b29fc4ef751ae6777e": {
      "model_module": "@jupyter-widgets/controls",
      "model_module_version": "1.5.0",
      "model_name": "DescriptionStyleModel",
      "state": {
       "description_width": ""
      }
     },
     "3e88217602ad468da2e2c4dec1314f44": {
      "model_module": "@jupyter-widgets/controls",
      "model_module_version": "1.5.0",
      "model_name": "DescriptionStyleModel",
      "state": {
       "description_width": ""
      }
     },
     "55f3232f656b4418b2900949c98b1b25": {
      "model_module": "@jupyter-widgets/base",
      "model_module_version": "1.2.0",
      "model_name": "LayoutModel",
      "state": {
       "grid_template_areas": "\n                                       \". . . . right \"\n                                        ",
       "grid_template_columns": "20% 20% 20% 20% 20%",
       "width": "100%"
      }
     },
     "561f29325af240368977ac344f874656": {
      "model_module": "@jupyter-widgets/base",
      "model_module_version": "1.2.0",
      "model_name": "LayoutModel",
      "state": {
       "grid_area": "right",
       "padding": "0px 0px 0px 0px",
       "width": "70px"
      }
     },
     "5dccf8b53551486a8550a4aacc1817a1": {
      "model_module": "@jupyter-widgets/controls",
      "model_module_version": "1.5.0",
      "model_name": "HBoxModel",
      "state": {
       "children": [
        "IPY_MODEL_9d690a95ae9f41aab916d3a11afc3050",
        "IPY_MODEL_7ae7f3d86f974d9194140c52773bfe69",
        "IPY_MODEL_6a22b290461c4c6db25c7c0ed4369f63",
        "IPY_MODEL_8323f79bee794693b3437053dcb7ee9a",
        "IPY_MODEL_739e1aeaf38c49e09fb001d675e34f6f"
       ],
       "layout": "IPY_MODEL_382a50ab505945a593bfcc76bd29b969"
      }
     },
     "623104edc6aa48f88bc515aa30f76e73": {
      "model_module": "@jupyter-widgets/controls",
      "model_module_version": "1.5.0",
      "model_name": "GridBoxModel",
      "state": {
       "children": [
        "IPY_MODEL_04627500e0f142f8adfcc98aa8d19e3b"
       ],
       "layout": "IPY_MODEL_55f3232f656b4418b2900949c98b1b25"
      }
     },
     "6a22b290461c4c6db25c7c0ed4369f63": {
      "model_module": "@jupyter-widgets/controls",
      "model_module_version": "1.5.0",
      "model_name": "HTMLModel",
      "state": {
       "layout": "IPY_MODEL_8ff4bf2009264e7282542e7e0e176ef6",
       "style": "IPY_MODEL_3e88217602ad468da2e2c4dec1314f44",
       "value": "<h5>Status</h5>"
      }
     },
     "739e1aeaf38c49e09fb001d675e34f6f": {
      "model_module": "@jupyter-widgets/controls",
      "model_module_version": "1.5.0",
      "model_name": "HTMLModel",
      "state": {
       "layout": "IPY_MODEL_9aef8bb6334c47ffa9ca2341830594ed",
       "style": "IPY_MODEL_1860e354105843e78c01c902bf8999e2",
       "value": "<h5>Message</h5>"
      }
     },
     "7ae7f3d86f974d9194140c52773bfe69": {
      "model_module": "@jupyter-widgets/controls",
      "model_module_version": "1.5.0",
      "model_name": "HTMLModel",
      "state": {
       "layout": "IPY_MODEL_1c461c30613043478c69290d67ef32a3",
       "style": "IPY_MODEL_0ec496c904e242df9acbf09d9c3db08c",
       "value": "<h5>Backend</h5>"
      }
     },
     "814fc992991546f09885f2b76f5a4a5f": {
      "model_module": "@jupyter-widgets/base",
      "model_module_version": "1.2.0",
      "model_name": "LayoutModel",
      "state": {
       "margin": "0px 0px 10px 0px"
      }
     },
     "8323f79bee794693b3437053dcb7ee9a": {
      "model_module": "@jupyter-widgets/controls",
      "model_module_version": "1.5.0",
      "model_name": "HTMLModel",
      "state": {
       "layout": "IPY_MODEL_af0f06687994443d97c22937164a17b0",
       "style": "IPY_MODEL_c22d646c303746e183ebfaec1afbeb5e",
       "value": "<h5>Queue</h5>"
      }
     },
     "8ff4bf2009264e7282542e7e0e176ef6": {
      "model_module": "@jupyter-widgets/base",
      "model_module_version": "1.2.0",
      "model_name": "LayoutModel",
      "state": {
       "width": "95px"
      }
     },
     "9aef8bb6334c47ffa9ca2341830594ed": {
      "model_module": "@jupyter-widgets/base",
      "model_module_version": "1.2.0",
      "model_name": "LayoutModel",
      "state": {}
     },
     "9d690a95ae9f41aab916d3a11afc3050": {
      "model_module": "@jupyter-widgets/controls",
      "model_module_version": "1.5.0",
      "model_name": "HTMLModel",
      "state": {
       "layout": "IPY_MODEL_24608d5131c04d2095d20dca2da326d8",
       "style": "IPY_MODEL_3963efd1dfa847b29fc4ef751ae6777e",
       "value": "<h5>Job ID</h5>"
      }
     },
     "a66b6554612146e59eddf621c5bb2522": {
      "model_module": "@jupyter-widgets/controls",
      "model_module_version": "1.5.0",
      "model_name": "DescriptionStyleModel",
      "state": {
       "description_width": ""
      }
     },
     "af0f06687994443d97c22937164a17b0": {
      "model_module": "@jupyter-widgets/base",
      "model_module_version": "1.2.0",
      "model_name": "LayoutModel",
      "state": {
       "width": "70px"
      }
     },
     "c22d646c303746e183ebfaec1afbeb5e": {
      "model_module": "@jupyter-widgets/controls",
      "model_module_version": "1.5.0",
      "model_name": "DescriptionStyleModel",
      "state": {
       "description_width": ""
      }
     },
     "fe4d25f895ae438bb991c699ca3cea77": {
      "model_module": "@jupyter-widgets/controls",
      "model_module_version": "1.5.0",
      "model_name": "ButtonStyleModel",
      "state": {}
     }
    },
    "version_major": 2,
    "version_minor": 0
   }
  }
 },
 "nbformat": 4,
 "nbformat_minor": 5
}
