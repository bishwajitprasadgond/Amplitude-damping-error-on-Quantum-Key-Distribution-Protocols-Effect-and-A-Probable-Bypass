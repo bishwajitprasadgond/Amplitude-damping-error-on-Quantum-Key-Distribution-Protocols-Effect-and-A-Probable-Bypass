{
 "cells": [
  {
   "cell_type": "code",
   "execution_count": 2,
   "id": "81736bd2",
   "metadata": {},
   "outputs": [
    {
     "name": "stderr",
     "output_type": "stream",
     "text": [
      "ibmqfactory.load_account:WARNING:2022-04-14 11:48:06,712: Credentials are already in use. The existing account in the session will be replaced.\n"
     ]
    }
   ],
   "source": [
    "import numpy as np\n",
    "# Importing standard Qiskit libraries\n",
    "from qiskit import QuantumCircuit, transpile, Aer, IBMQ\n",
    "from qiskit.tools.jupyter import *\n",
    "from qiskit.visualization import *\n",
    "from ibm_quantum_widgets import *\n",
    "\n",
    "# Loading your IBM Quantum account(s)\n",
    "provider = IBMQ.load_account()"
   ]
  },
  {
   "cell_type": "code",
   "execution_count": 31,
   "id": "0dccd4a8-ba13-4c0b-8058-7b4e05b24e37",
   "metadata": {},
   "outputs": [
    {
     "name": "stderr",
     "output_type": "stream",
     "text": [
      "ibmqfactory.load_account:WARNING:2022-04-14 05:37:23,124: Credentials are already in use. The existing account in the session will be replaced.\n"
     ]
    },
    {
     "data": {
      "text/plain": [
       "3.5555555555555554e-08"
      ]
     },
     "execution_count": 31,
     "metadata": {},
     "output_type": "execute_result"
    }
   ],
   "source": [
    "from qiskit import IBMQ\n",
    "# IBMQ.save_account(TOKEN)\n",
    "IBMQ.load_account() # Load account from disk\n",
    "IBMQ.providers()    # List all available providers\n",
    "provider = IBMQ.get_provider(hub='ibm-q', group='open', project='main')\n",
    "device = provider.get_backend('ibmq_lima')\n",
    "device.properties().gate_length('x',(1))\n"
   ]
  },
  {
   "cell_type": "code",
   "execution_count": 7,
   "id": "81c79f53-a51d-47be-a4ad-3e254ebfac86",
   "metadata": {},
   "outputs": [
    {
     "name": "stderr",
     "output_type": "stream",
     "text": [
      "ibmqfactory.load_account:WARNING:2022-04-14 11:56:11,648: Credentials are already in use. The existing account in the session will be replaced.\n"
     ]
    },
    {
     "data": {
      "text/plain": [
       "3.0577777777777775e-07"
      ]
     },
     "execution_count": 7,
     "metadata": {},
     "output_type": "execute_result"
    }
   ],
   "source": [
    "from qiskit import IBMQ\n",
    "# IBMQ.save_account(TOKEN)\n",
    "IBMQ.load_account() # Load account from disk\n",
    "IBMQ.providers()    # List all available providers\n",
    "provider = IBMQ.get_provider(hub='ibm-q', group='open', project='main')\n",
    "device = provider.get_backend('ibmq_lima')\n",
    "device.properties().gate_length('cx',(0,1))"
   ]
  },
  {
   "cell_type": "code",
   "execution_count": 33,
   "id": "c2896044-3463-438b-8faf-5d33a9baefa2",
   "metadata": {},
   "outputs": [
    {
     "name": "stderr",
     "output_type": "stream",
     "text": [
      "ibmqfactory.load_account:WARNING:2022-04-14 05:38:13,129: Credentials are already in use. The existing account in the session will be replaced.\n"
     ]
    },
    {
     "data": {
      "text/plain": [
       "7.111111111111111e-08"
      ]
     },
     "execution_count": 33,
     "metadata": {},
     "output_type": "execute_result"
    }
   ],
   "source": [
    "from qiskit import IBMQ\n",
    "# IBMQ.save_account(TOKEN)\n",
    "IBMQ.load_account() # Load account from disk\n",
    "IBMQ.providers()    # List all available providers\n",
    "provider = IBMQ.get_provider(hub='ibm-q', group='open', project='main')\n",
    "device = provider.get_backend('ibmq_armonk')\n",
    "device.properties().gate_length('x',(0))"
   ]
  },
  {
   "cell_type": "code",
   "execution_count": 35,
   "id": "1a10dbc2-3df6-4552-a752-611e7a78a535",
   "metadata": {},
   "outputs": [
    {
     "name": "stderr",
     "output_type": "stream",
     "text": [
      "ibmqfactory.load_account:WARNING:2022-04-14 05:51:01,107: Credentials are already in use. The existing account in the session will be replaced.\n"
     ]
    },
    {
     "data": {
      "text/plain": [
       "7.111111111111111e-08"
      ]
     },
     "execution_count": 35,
     "metadata": {},
     "output_type": "execute_result"
    }
   ],
   "source": [
    "from qiskit import IBMQ\n",
    "# IBMQ.save_account(TOKEN)\n",
    "IBMQ.load_account() # Load account from disk\n",
    "IBMQ.providers()    # List all available providers\n",
    "provider = IBMQ.get_provider(hub='ibm-q', group='open', project='main')\n",
    "device = provider.get_backend('ibmq_armonk')\n",
    "device.properties().gate_length('id',(0))"
   ]
  },
  {
   "cell_type": "code",
   "execution_count": 38,
   "id": "4d5c0955-4157-4ffd-aa87-dce96b1454ea",
   "metadata": {},
   "outputs": [
    {
     "name": "stdout",
     "output_type": "stream",
     "text": [
      "0\n"
     ]
    }
   ],
   "source": [
    "a=7.111111111111111e-08\n",
    "print((a))"
   ]
  },
  {
   "cell_type": "code",
   "execution_count": 29,
   "id": "4b419982",
   "metadata": {
    "tags": []
   },
   "outputs": [],
   "source": [
    "# from qiskit.tools.monitor import backend_monitor\n",
    "# IBMQ.load_account()\n",
    "# provider = IBMQ.get_provider(hub='ibm-q')\n",
    "# device = provider.get_backend('ibmq_lima')\n",
    "# backend_monitor(provider.backends.ibmq_lima)\n"
   ]
  },
  {
   "cell_type": "code",
   "execution_count": 30,
   "id": "a148488e-c6c9-41c3-99e2-7b977a736891",
   "metadata": {},
   "outputs": [],
   "source": [
    "# from qiskit.tools.monitor import backend_monitor\n",
    "# IBMQ.load_account()\n",
    "# provider = IBMQ.get_provider(hub='ibm-q')\n",
    "# device = provider.get_backend('ibmq_armonk')\n",
    "# backend_monitor(provider.backends.ibmq_armonk)"
   ]
  },
  {
   "cell_type": "code",
   "execution_count": 28,
   "id": "9827fe76-f388-419e-8217-94fcdee2bcd2",
   "metadata": {},
   "outputs": [
    {
     "name": "stderr",
     "output_type": "stream",
     "text": [
      "ibmqfactory.load_account:WARNING:2022-04-14 05:35:55,639: Credentials are already in use. The existing account in the session will be replaced.\n"
     ]
    },
    {
     "data": {
      "text/plain": [
       "3.5555555555555554e-08"
      ]
     },
     "execution_count": 28,
     "metadata": {},
     "output_type": "execute_result"
    }
   ],
   "source": [
    "\n"
   ]
  },
  {
   "cell_type": "code",
   "execution_count": null,
   "id": "d5af6f78-e802-4ef2-a33c-62a2f3e7832c",
   "metadata": {},
   "outputs": [],
   "source": []
  },
  {
   "cell_type": "code",
   "execution_count": null,
   "id": "4456f867-7af2-4bc1-9132-15ee5821a04c",
   "metadata": {},
   "outputs": [],
   "source": []
  }
 ],
 "metadata": {
  "kernelspec": {
   "display_name": "Qiskit v0.35.0 (ipykernel)",
   "language": "python",
   "name": "python3"
  },
  "language_info": {
   "codemirror_mode": {
    "name": "ipython",
    "version": 3
   },
   "file_extension": ".py",
   "mimetype": "text/x-python",
   "name": "python",
   "nbconvert_exporter": "python",
   "pygments_lexer": "ipython3",
   "version": "3.8.13"
  },
  "widgets": {
   "application/vnd.jupyter.widget-state+json": {
    "state": {
     "04640449d05e497e9acd719cf5748864": {
      "model_module": "@jupyter-widgets/controls",
      "model_module_version": "1.5.0",
      "model_name": "HTMLModel",
      "state": {
       "layout": "IPY_MODEL_08c02e890ed3412095570dce62334041",
       "style": "IPY_MODEL_1d73e181a8974d38b78fcf656dcba0ec",
       "value": "<h5>Status</h5>"
      }
     },
     "08c02e890ed3412095570dce62334041": {
      "model_module": "@jupyter-widgets/base",
      "model_module_version": "1.2.0",
      "model_name": "LayoutModel",
      "state": {
       "width": "95px"
      }
     },
     "0b39590226414ec1afef71c9c3600182": {
      "model_module": "@jupyter-widgets/base",
      "model_module_version": "1.2.0",
      "model_name": "LayoutModel",
      "state": {
       "margin": "0px 0px 0px 37px",
       "width": "600px"
      }
     },
     "1ad76c7d8cb3427ca72716123229101c": {
      "model_module": "@jupyter-widgets/controls",
      "model_module_version": "1.5.0",
      "model_name": "DescriptionStyleModel",
      "state": {
       "description_width": ""
      }
     },
     "1c103989c57240dab94115b87d8b90cb": {
      "model_module": "@jupyter-widgets/base",
      "model_module_version": "1.2.0",
      "model_name": "LayoutModel",
      "state": {
       "width": "70px"
      }
     },
     "1d73e181a8974d38b78fcf656dcba0ec": {
      "model_module": "@jupyter-widgets/controls",
      "model_module_version": "1.5.0",
      "model_name": "DescriptionStyleModel",
      "state": {
       "description_width": ""
      }
     },
     "241aa7e820cf400db537bbc21c0f911d": {
      "model_module": "@jupyter-widgets/controls",
      "model_module_version": "1.5.0",
      "model_name": "HTMLModel",
      "state": {
       "layout": "IPY_MODEL_1c103989c57240dab94115b87d8b90cb",
       "style": "IPY_MODEL_1ad76c7d8cb3427ca72716123229101c",
       "value": "<h5>Queue</h5>"
      }
     },
     "250ccea69cb24923af0b22356bb57f30": {
      "model_module": "@jupyter-widgets/base",
      "model_module_version": "1.2.0",
      "model_name": "LayoutModel",
      "state": {
       "width": "190px"
      }
     },
     "2fcd52660c674a288d9663430eee1ae3": {
      "model_module": "@jupyter-widgets/controls",
      "model_module_version": "1.5.0",
      "model_name": "DescriptionStyleModel",
      "state": {
       "description_width": ""
      }
     },
     "37e01171e7ac45258a76d6d39e069ca7": {
      "model_module": "@jupyter-widgets/base",
      "model_module_version": "1.2.0",
      "model_name": "LayoutModel",
      "state": {
       "margin": "0px 0px 10px 0px"
      }
     },
     "598128d261464bc7a66e3fdf5dcc6e5a": {
      "model_module": "@jupyter-widgets/controls",
      "model_module_version": "1.5.0",
      "model_name": "ButtonStyleModel",
      "state": {}
     },
     "6d7074170b9245959690ac67d1dca6f9": {
      "model_module": "@jupyter-widgets/base",
      "model_module_version": "1.2.0",
      "model_name": "LayoutModel",
      "state": {}
     },
     "70709d59a47240ab8720cd1bd510b08e": {
      "model_module": "@jupyter-widgets/controls",
      "model_module_version": "1.5.0",
      "model_name": "DescriptionStyleModel",
      "state": {
       "description_width": ""
      }
     },
     "746efd4c8fc5410498fcc49dd49d95f5": {
      "model_module": "@jupyter-widgets/controls",
      "model_module_version": "1.5.0",
      "model_name": "HTMLModel",
      "state": {
       "layout": "IPY_MODEL_250ccea69cb24923af0b22356bb57f30",
       "style": "IPY_MODEL_bae6d215f82a4c769a7c42df423f135f",
       "value": "<h5>Job ID</h5>"
      }
     },
     "7c43f62b5ae646edb6b18128b5091b20": {
      "model_module": "@jupyter-widgets/controls",
      "model_module_version": "1.5.0",
      "model_name": "HTMLModel",
      "state": {
       "layout": "IPY_MODEL_37e01171e7ac45258a76d6d39e069ca7",
       "style": "IPY_MODEL_b8f6e3e344ff430c9c0722bb0dc9bafc",
       "value": "<p style='font-family: IBM Plex Sans, Arial, Helvetica, sans-serif; font-size: 20px; font-weight: medium;'>Circuit Properties</p>"
      }
     },
     "913b828ffb9c43c79db62cfb16950f5e": {
      "model_module": "@jupyter-widgets/controls",
      "model_module_version": "1.5.0",
      "model_name": "ButtonModel",
      "state": {
       "button_style": "primary",
       "description": "Clear",
       "layout": "IPY_MODEL_f8dd0e8bfc6847e9be81e01972f02b8e",
       "style": "IPY_MODEL_598128d261464bc7a66e3fdf5dcc6e5a"
      }
     },
     "a0da836f74624f51b9e199e17b42e4ac": {
      "model_module": "@jupyter-widgets/controls",
      "model_module_version": "1.5.0",
      "model_name": "HTMLModel",
      "state": {
       "layout": "IPY_MODEL_e23d99ab9d134e72b3d6b3d89085977d",
       "style": "IPY_MODEL_70709d59a47240ab8720cd1bd510b08e",
       "value": "<h5>Backend</h5>"
      }
     },
     "a48c71e60a1c493cbfe70773f6a4f497": {
      "model_module": "@jupyter-widgets/controls",
      "model_module_version": "1.5.0",
      "model_name": "HTMLModel",
      "state": {
       "layout": "IPY_MODEL_6d7074170b9245959690ac67d1dca6f9",
       "style": "IPY_MODEL_2fcd52660c674a288d9663430eee1ae3",
       "value": "<h5>Message</h5>"
      }
     },
     "a4cb64e9ba0944a8adad7963f672e583": {
      "model_module": "@jupyter-widgets/controls",
      "model_module_version": "1.5.0",
      "model_name": "GridBoxModel",
      "state": {
       "children": [
        "IPY_MODEL_913b828ffb9c43c79db62cfb16950f5e"
       ],
       "layout": "IPY_MODEL_b7f95fffb3704f508f9ce1a07663c221"
      }
     },
     "b7f95fffb3704f508f9ce1a07663c221": {
      "model_module": "@jupyter-widgets/base",
      "model_module_version": "1.2.0",
      "model_name": "LayoutModel",
      "state": {
       "grid_template_areas": "\n                                       \". . . . right \"\n                                        ",
       "grid_template_columns": "20% 20% 20% 20% 20%",
       "width": "100%"
      }
     },
     "b8f6e3e344ff430c9c0722bb0dc9bafc": {
      "model_module": "@jupyter-widgets/controls",
      "model_module_version": "1.5.0",
      "model_name": "DescriptionStyleModel",
      "state": {
       "description_width": ""
      }
     },
     "bae6d215f82a4c769a7c42df423f135f": {
      "model_module": "@jupyter-widgets/controls",
      "model_module_version": "1.5.0",
      "model_name": "DescriptionStyleModel",
      "state": {
       "description_width": ""
      }
     },
     "e23d99ab9d134e72b3d6b3d89085977d": {
      "model_module": "@jupyter-widgets/base",
      "model_module_version": "1.2.0",
      "model_name": "LayoutModel",
      "state": {
       "width": "145px"
      }
     },
     "f308ad8440c244d98a97a2a6c9c16c4f": {
      "model_module": "@jupyter-widgets/controls",
      "model_module_version": "1.5.0",
      "model_name": "HBoxModel",
      "state": {
       "children": [
        "IPY_MODEL_746efd4c8fc5410498fcc49dd49d95f5",
        "IPY_MODEL_a0da836f74624f51b9e199e17b42e4ac",
        "IPY_MODEL_04640449d05e497e9acd719cf5748864",
        "IPY_MODEL_241aa7e820cf400db537bbc21c0f911d",
        "IPY_MODEL_a48c71e60a1c493cbfe70773f6a4f497"
       ],
       "layout": "IPY_MODEL_0b39590226414ec1afef71c9c3600182"
      }
     },
     "f8dd0e8bfc6847e9be81e01972f02b8e": {
      "model_module": "@jupyter-widgets/base",
      "model_module_version": "1.2.0",
      "model_name": "LayoutModel",
      "state": {
       "grid_area": "right",
       "padding": "0px 0px 0px 0px",
       "width": "70px"
      }
     }
    },
    "version_major": 2,
    "version_minor": 0
   }
  }
 },
 "nbformat": 4,
 "nbformat_minor": 5
}
