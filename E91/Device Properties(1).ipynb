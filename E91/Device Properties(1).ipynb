{
 "cells": [
  {
   "cell_type": "code",
   "execution_count": 16,
   "id": "81736bd2",
   "metadata": {},
   "outputs": [
    {
     "name": "stderr",
     "output_type": "stream",
     "text": [
      "ibmqfactory.load_account:WARNING:2022-04-14 04:56:28,658: Credentials are already in use. The existing account in the session will be replaced.\n"
     ]
    }
   ],
   "source": [
    "import numpy as np\n",
    "# Importing standard Qiskit libraries\n",
    "from qiskit import QuantumCircuit, transpile, Aer, IBMQ\n",
    "from qiskit.tools.jupyter import *\n",
    "from qiskit.visualization import *\n",
    "from ibm_quantum_widgets import *\n",
    "\n",
    "# Loading your IBM Quantum account(s)\n",
    "provider = IBMQ.load_account()"
   ]
  },
  {
   "cell_type": "code",
   "execution_count": 31,
   "id": "0dccd4a8-ba13-4c0b-8058-7b4e05b24e37",
   "metadata": {},
   "outputs": [
    {
     "name": "stderr",
     "output_type": "stream",
     "text": [
      "ibmqfactory.load_account:WARNING:2022-04-14 05:37:23,124: Credentials are already in use. The existing account in the session will be replaced.\n"
     ]
    },
    {
     "data": {
      "text/plain": [
       "3.5555555555555554e-08"
      ]
     },
     "execution_count": 31,
     "metadata": {},
     "output_type": "execute_result"
    }
   ],
   "source": [
    "from qiskit import IBMQ\n",
    "# IBMQ.save_account(TOKEN)\n",
    "IBMQ.load_account() # Load account from disk\n",
    "IBMQ.providers()    # List all available providers\n",
    "provider = IBMQ.get_provider(hub='ibm-q', group='open', project='main')\n",
    "device = provider.get_backend('ibmq_lima')\n",
    "device.properties().gate_length('x',(1))\n"
   ]
  },
  {
   "cell_type": "code",
   "execution_count": 33,
   "id": "c2896044-3463-438b-8faf-5d33a9baefa2",
   "metadata": {},
   "outputs": [
    {
     "name": "stderr",
     "output_type": "stream",
     "text": [
      "ibmqfactory.load_account:WARNING:2022-04-14 05:38:13,129: Credentials are already in use. The existing account in the session will be replaced.\n"
     ]
    },
    {
     "data": {
      "text/plain": [
       "7.111111111111111e-08"
      ]
     },
     "execution_count": 33,
     "metadata": {},
     "output_type": "execute_result"
    }
   ],
   "source": [
    "from qiskit import IBMQ\n",
    "# IBMQ.save_account(TOKEN)\n",
    "IBMQ.load_account() # Load account from disk\n",
    "IBMQ.providers()    # List all available providers\n",
    "provider = IBMQ.get_provider(hub='ibm-q', group='open', project='main')\n",
    "device = provider.get_backend('ibmq_armonk')\n",
    "device.properties().gate_length('x',(0))"
   ]
  },
  {
   "cell_type": "code",
   "execution_count": 29,
   "id": "4b419982",
   "metadata": {
    "tags": []
   },
   "outputs": [],
   "source": [
    "# from qiskit.tools.monitor import backend_monitor\n",
    "# IBMQ.load_account()\n",
    "# provider = IBMQ.get_provider(hub='ibm-q')\n",
    "# device = provider.get_backend('ibmq_lima')\n",
    "# backend_monitor(provider.backends.ibmq_lima)\n"
   ]
  },
  {
   "cell_type": "code",
   "execution_count": 30,
   "id": "a148488e-c6c9-41c3-99e2-7b977a736891",
   "metadata": {},
   "outputs": [],
   "source": [
    "# from qiskit.tools.monitor import backend_monitor\n",
    "# IBMQ.load_account()\n",
    "# provider = IBMQ.get_provider(hub='ibm-q')\n",
    "# device = provider.get_backend('ibmq_armonk')\n",
    "# backend_monitor(provider.backends.ibmq_armonk)"
   ]
  },
  {
   "cell_type": "code",
   "execution_count": 28,
   "id": "9827fe76-f388-419e-8217-94fcdee2bcd2",
   "metadata": {},
   "outputs": [
    {
     "name": "stderr",
     "output_type": "stream",
     "text": [
      "ibmqfactory.load_account:WARNING:2022-04-14 05:35:55,639: Credentials are already in use. The existing account in the session will be replaced.\n"
     ]
    },
    {
     "data": {
      "text/plain": [
       "3.5555555555555554e-08"
      ]
     },
     "execution_count": 28,
     "metadata": {},
     "output_type": "execute_result"
    }
   ],
   "source": [
    "\n"
   ]
  },
  {
   "cell_type": "code",
   "execution_count": null,
   "id": "d5af6f78-e802-4ef2-a33c-62a2f3e7832c",
   "metadata": {},
   "outputs": [],
   "source": []
  },
  {
   "cell_type": "code",
   "execution_count": null,
   "id": "4456f867-7af2-4bc1-9132-15ee5821a04c",
   "metadata": {},
   "outputs": [],
   "source": []
  }
 ],
 "metadata": {
  "kernelspec": {
   "display_name": "Qiskit v0.35.0 (ipykernel)",
   "language": "python",
   "name": "python3"
  },
  "language_info": {
   "codemirror_mode": {
    "name": "ipython",
    "version": 3
   },
   "file_extension": ".py",
   "mimetype": "text/x-python",
   "name": "python",
   "nbconvert_exporter": "python",
   "pygments_lexer": "ipython3",
   "version": "3.8.13"
  },
  "widgets": {
   "application/vnd.jupyter.widget-state+json": {
    "state": {
     "0976a28b379f4eb2b2c4557168ed794e": {
      "model_module": "@jupyter-widgets/base",
      "model_module_version": "1.2.0",
      "model_name": "LayoutModel",
      "state": {
       "grid_area": "right",
       "padding": "0px 0px 0px 0px",
       "width": "70px"
      }
     },
     "10a9e738931e42dca05d413438fa9789": {
      "model_module": "@jupyter-widgets/base",
      "model_module_version": "1.2.0",
      "model_name": "LayoutModel",
      "state": {
       "grid_template_areas": "\n                                       \". . . . right \"\n                                        ",
       "grid_template_columns": "20% 20% 20% 20% 20%",
       "width": "100%"
      }
     },
     "1c3e9815c70c4b149fa158ae8fb3d0fa": {
      "model_module": "@jupyter-widgets/controls",
      "model_module_version": "1.5.0",
      "model_name": "ButtonStyleModel",
      "state": {}
     },
     "1c5e07c12fd04ec6a3ad25755fc67e23": {
      "model_module": "@jupyter-widgets/controls",
      "model_module_version": "1.5.0",
      "model_name": "HTMLModel",
      "state": {
       "layout": "IPY_MODEL_66a53e147873431ebec6b37efb8d5e00",
       "style": "IPY_MODEL_8f05617d41d2459da8851ab99847077b",
       "value": "<h5>Queue</h5>"
      }
     },
     "252391dc0d9f4cdaad0660c098246807": {
      "model_module": "@jupyter-widgets/base",
      "model_module_version": "1.2.0",
      "model_name": "LayoutModel",
      "state": {
       "width": "145px"
      }
     },
     "36081581cde546d194e7694b41c50294": {
      "model_module": "@jupyter-widgets/controls",
      "model_module_version": "1.5.0",
      "model_name": "DescriptionStyleModel",
      "state": {
       "description_width": ""
      }
     },
     "38cb24723ae94d6e8943caf5d829164b": {
      "model_module": "@jupyter-widgets/controls",
      "model_module_version": "1.5.0",
      "model_name": "DescriptionStyleModel",
      "state": {
       "description_width": ""
      }
     },
     "58bca79a797f4f548afcc8b9da081504": {
      "model_module": "@jupyter-widgets/controls",
      "model_module_version": "1.5.0",
      "model_name": "DescriptionStyleModel",
      "state": {
       "description_width": ""
      }
     },
     "650287bf0484488d8c09d0ee9c8ff715": {
      "model_module": "@jupyter-widgets/base",
      "model_module_version": "1.2.0",
      "model_name": "LayoutModel",
      "state": {
       "width": "190px"
      }
     },
     "66a53e147873431ebec6b37efb8d5e00": {
      "model_module": "@jupyter-widgets/base",
      "model_module_version": "1.2.0",
      "model_name": "LayoutModel",
      "state": {
       "width": "70px"
      }
     },
     "674aebd991014113bbf817c462cd9b6a": {
      "model_module": "@jupyter-widgets/controls",
      "model_module_version": "1.5.0",
      "model_name": "HBoxModel",
      "state": {
       "children": [
        "IPY_MODEL_d5fc3bb799f34163b1b4bb97f077151f",
        "IPY_MODEL_755a0b75ad6646f8846128f3823ec7e6",
        "IPY_MODEL_f52ce91f89464226b17d982a950012f2",
        "IPY_MODEL_1c5e07c12fd04ec6a3ad25755fc67e23",
        "IPY_MODEL_a9dd3640226340b9b73772ce749f00ef"
       ],
       "layout": "IPY_MODEL_93b465aabe104b76968fea819b04f3b4"
      }
     },
     "6a909984f73e433c973194829d8c157b": {
      "model_module": "@jupyter-widgets/controls",
      "model_module_version": "1.5.0",
      "model_name": "DescriptionStyleModel",
      "state": {
       "description_width": ""
      }
     },
     "755a0b75ad6646f8846128f3823ec7e6": {
      "model_module": "@jupyter-widgets/controls",
      "model_module_version": "1.5.0",
      "model_name": "HTMLModel",
      "state": {
       "layout": "IPY_MODEL_252391dc0d9f4cdaad0660c098246807",
       "style": "IPY_MODEL_38cb24723ae94d6e8943caf5d829164b",
       "value": "<h5>Backend</h5>"
      }
     },
     "7eaded7296ec497c92e074cb19648259": {
      "model_module": "@jupyter-widgets/controls",
      "model_module_version": "1.5.0",
      "model_name": "ButtonModel",
      "state": {
       "button_style": "primary",
       "description": "Clear",
       "layout": "IPY_MODEL_0976a28b379f4eb2b2c4557168ed794e",
       "style": "IPY_MODEL_1c3e9815c70c4b149fa158ae8fb3d0fa"
      }
     },
     "8f05617d41d2459da8851ab99847077b": {
      "model_module": "@jupyter-widgets/controls",
      "model_module_version": "1.5.0",
      "model_name": "DescriptionStyleModel",
      "state": {
       "description_width": ""
      }
     },
     "935fc6afc2d649228c6c13187f70639a": {
      "model_module": "@jupyter-widgets/controls",
      "model_module_version": "1.5.0",
      "model_name": "HTMLModel",
      "state": {
       "layout": "IPY_MODEL_9e4b35c8302a479fa7ac6fce8193274c",
       "style": "IPY_MODEL_e1b38e9cc200440e85d76b5ee6c2861d",
       "value": "<p style='font-family: IBM Plex Sans, Arial, Helvetica, sans-serif; font-size: 20px; font-weight: medium;'>Circuit Properties</p>"
      }
     },
     "93b465aabe104b76968fea819b04f3b4": {
      "model_module": "@jupyter-widgets/base",
      "model_module_version": "1.2.0",
      "model_name": "LayoutModel",
      "state": {
       "margin": "0px 0px 0px 37px",
       "width": "600px"
      }
     },
     "9e4b35c8302a479fa7ac6fce8193274c": {
      "model_module": "@jupyter-widgets/base",
      "model_module_version": "1.2.0",
      "model_name": "LayoutModel",
      "state": {
       "margin": "0px 0px 10px 0px"
      }
     },
     "a9dd3640226340b9b73772ce749f00ef": {
      "model_module": "@jupyter-widgets/controls",
      "model_module_version": "1.5.0",
      "model_name": "HTMLModel",
      "state": {
       "layout": "IPY_MODEL_b172e4cbce4245bca1fd8c407f39fe2c",
       "style": "IPY_MODEL_36081581cde546d194e7694b41c50294",
       "value": "<h5>Message</h5>"
      }
     },
     "b172e4cbce4245bca1fd8c407f39fe2c": {
      "model_module": "@jupyter-widgets/base",
      "model_module_version": "1.2.0",
      "model_name": "LayoutModel",
      "state": {}
     },
     "b523c6cfe14540878309ab4423e2a2b2": {
      "model_module": "@jupyter-widgets/base",
      "model_module_version": "1.2.0",
      "model_name": "LayoutModel",
      "state": {
       "width": "95px"
      }
     },
     "d5fc3bb799f34163b1b4bb97f077151f": {
      "model_module": "@jupyter-widgets/controls",
      "model_module_version": "1.5.0",
      "model_name": "HTMLModel",
      "state": {
       "layout": "IPY_MODEL_650287bf0484488d8c09d0ee9c8ff715",
       "style": "IPY_MODEL_6a909984f73e433c973194829d8c157b",
       "value": "<h5>Job ID</h5>"
      }
     },
     "d6cd15380ca24780a84d6456f5f4b70c": {
      "model_module": "@jupyter-widgets/controls",
      "model_module_version": "1.5.0",
      "model_name": "GridBoxModel",
      "state": {
       "children": [
        "IPY_MODEL_7eaded7296ec497c92e074cb19648259"
       ],
       "layout": "IPY_MODEL_10a9e738931e42dca05d413438fa9789"
      }
     },
     "e1b38e9cc200440e85d76b5ee6c2861d": {
      "model_module": "@jupyter-widgets/controls",
      "model_module_version": "1.5.0",
      "model_name": "DescriptionStyleModel",
      "state": {
       "description_width": ""
      }
     },
     "f52ce91f89464226b17d982a950012f2": {
      "model_module": "@jupyter-widgets/controls",
      "model_module_version": "1.5.0",
      "model_name": "HTMLModel",
      "state": {
       "layout": "IPY_MODEL_b523c6cfe14540878309ab4423e2a2b2",
       "style": "IPY_MODEL_58bca79a797f4f548afcc8b9da081504",
       "value": "<h5>Status</h5>"
      }
     }
    },
    "version_major": 2,
    "version_minor": 0
   }
  }
 },
 "nbformat": 4,
 "nbformat_minor": 5
}
